{
 "cells": [
  {
   "cell_type": "markdown",
   "id": "2793b6c1",
   "metadata": {},
   "source": [
    "# Edit Your Expectation Suite\n",
    "Use this notebook to recreate and modify your expectation suite:\n",
    "\n",
    "**Expectation Suite Name**: `sales_data_check`\n"
   ]
  },
  {
   "cell_type": "code",
   "execution_count": 23,
   "id": "324b3fe0",
   "metadata": {},
   "outputs": [
    {
     "name": "stdout",
     "output_type": "stream",
     "text": [
      "2023-07-26T20:56:43+0000 - INFO - FileDataContext loading fluent config\n",
      "2023-07-26T20:56:43+0000 - INFO - Loading 'datasources' ->\n",
      "[{'name': 'default_pandas_datasource', 'type': 'pandas'}]\n",
      "2023-07-26T20:56:43+0000 - INFO - Of 1 entries, no 'datasources' could be loaded\n",
      "Created ExpectationSuite \"sales_data_check\".\n"
     ]
    }
   ],
   "source": [
    "import datetime\n",
    "\n",
    "import pandas as pd\n",
    "\n",
    "import great_expectations as gx\n",
    "import great_expectations.jupyter_ux\n",
    "from great_expectations.core.expectation_configuration import ExpectationConfiguration\n",
    "from great_expectations.data_context.types.resource_identifiers import ExpectationSuiteIdentifier\n",
    "from great_expectations.exceptions import DataContextError\n",
    "from great_expectations.core.batch import BatchRequest\n",
    "from great_expectations.checkpoint import SimpleCheckpoint\n",
    "\n",
    "context = gx.get_context()\n",
    "\n",
    "\n",
    "# Feel free to change the name of your suite here. Renaming this will not remove the other one.\n",
    "expectation_suite_name = \"sales_data_check\"\n",
    "try:\n",
    "    suite = context.get_expectation_suite(expectation_suite_name=expectation_suite_name)\n",
    "    print(f'Loaded ExpectationSuite \"{suite.expectation_suite_name}\" containing {len(suite.expectations)} expectations.')\n",
    "except DataContextError:\n",
    "    suite = context.add_expectation_suite(expectation_suite_name=expectation_suite_name)\n",
    "    print(f'Created ExpectationSuite \"{suite.expectation_suite_name}\".')"
   ]
  },
  {
   "cell_type": "code",
   "execution_count": 24,
   "id": "bae21c1e-317e-4086-91f7-7e6cbadcdf0d",
   "metadata": {},
   "outputs": [
    {
     "data": {
      "application/vnd.jupyter.widget-view+json": {
       "model_id": "3e5cac3b88b4490490f4e83c6253028f",
       "version_major": 2,
       "version_minor": 0
      },
      "text/plain": [
       "Calculating Metrics:   0%|          | 0/2 [00:00<?, ?it/s]"
      ]
     },
     "metadata": {},
     "output_type": "display_data"
    },
    {
     "name": "stdout",
     "output_type": "stream",
     "text": [
      "Columns: \"trans_id\", \"prod_key\", \"store_key\", \"trans_dt\", \"trans_time\", \"sales_qty\", \"sales_price\", \"sales_amt\", \"discount\", \"sales_cost\", \"sales_mgrn\", \"ship_cost\".\n"
     ]
    },
    {
     "data": {
      "application/vnd.jupyter.widget-view+json": {
       "model_id": "766fbc7f35074e22b29f9ef1ad0f640f",
       "version_major": 2,
       "version_minor": 0
      },
      "text/plain": [
       "Calculating Metrics:   0%|          | 0/1 [00:00<?, ?it/s]"
      ]
     },
     "metadata": {},
     "output_type": "display_data"
    },
    {
     "data": {
      "text/html": [
       "<div>\n",
       "<style scoped>\n",
       "    .dataframe tbody tr th:only-of-type {\n",
       "        vertical-align: middle;\n",
       "    }\n",
       "\n",
       "    .dataframe tbody tr th {\n",
       "        vertical-align: top;\n",
       "    }\n",
       "\n",
       "    .dataframe thead th {\n",
       "        text-align: right;\n",
       "    }\n",
       "</style>\n",
       "<table border=\"1\" class=\"dataframe\">\n",
       "  <thead>\n",
       "    <tr style=\"text-align: right;\">\n",
       "      <th></th>\n",
       "      <th>trans_id</th>\n",
       "      <th>prod_key</th>\n",
       "      <th>store_key</th>\n",
       "      <th>trans_dt</th>\n",
       "      <th>trans_time</th>\n",
       "      <th>sales_qty</th>\n",
       "      <th>sales_price</th>\n",
       "      <th>sales_amt</th>\n",
       "      <th>discount</th>\n",
       "      <th>sales_cost</th>\n",
       "      <th>sales_mgrn</th>\n",
       "      <th>ship_cost</th>\n",
       "    </tr>\n",
       "  </thead>\n",
       "  <tbody>\n",
       "    <tr>\n",
       "      <th>0</th>\n",
       "      <td>244054</td>\n",
       "      <td>455222</td>\n",
       "      <td>8103</td>\n",
       "      <td>2020-10-09</td>\n",
       "      <td>12</td>\n",
       "      <td>25.0</td>\n",
       "      <td>37.94</td>\n",
       "      <td>721.06</td>\n",
       "      <td>0.10</td>\n",
       "      <td>610.39</td>\n",
       "      <td>338.01</td>\n",
       "      <td>5.08</td>\n",
       "    </tr>\n",
       "    <tr>\n",
       "      <th>1</th>\n",
       "      <td>244056</td>\n",
       "      <td>637817</td>\n",
       "      <td>8103</td>\n",
       "      <td>2020-06-04</td>\n",
       "      <td>16</td>\n",
       "      <td>2.4</td>\n",
       "      <td>999.99</td>\n",
       "      <td>2423.98</td>\n",
       "      <td>0.00</td>\n",
       "      <td>4819.97</td>\n",
       "      <td>-1820.00</td>\n",
       "      <td>13.99</td>\n",
       "    </tr>\n",
       "    <tr>\n",
       "      <th>2</th>\n",
       "      <td>244058</td>\n",
       "      <td>492902</td>\n",
       "      <td>8103</td>\n",
       "      <td>2022-10-25</td>\n",
       "      <td>17</td>\n",
       "      <td>30.0</td>\n",
       "      <td>14.03</td>\n",
       "      <td>356.94</td>\n",
       "      <td>0.08</td>\n",
       "      <td>569.08</td>\n",
       "      <td>-148.26</td>\n",
       "      <td>9.37</td>\n",
       "    </tr>\n",
       "    <tr>\n",
       "      <th>3</th>\n",
       "      <td>244060</td>\n",
       "      <td>612619</td>\n",
       "      <td>8103</td>\n",
       "      <td>2022-01-10</td>\n",
       "      <td>18</td>\n",
       "      <td>13.6</td>\n",
       "      <td>107.53</td>\n",
       "      <td>1782.68</td>\n",
       "      <td>0.08</td>\n",
       "      <td>1547.29</td>\n",
       "      <td>280.64</td>\n",
       "      <td>5.81</td>\n",
       "    </tr>\n",
       "    <tr>\n",
       "      <th>4</th>\n",
       "      <td>244062</td>\n",
       "      <td>1039077</td>\n",
       "      <td>8103</td>\n",
       "      <td>2020-05-25</td>\n",
       "      <td>18</td>\n",
       "      <td>34.0</td>\n",
       "      <td>27.18</td>\n",
       "      <td>622.89</td>\n",
       "      <td>0.10</td>\n",
       "      <td>719.53</td>\n",
       "      <td>204.49</td>\n",
       "      <td>8.23</td>\n",
       "    </tr>\n",
       "  </tbody>\n",
       "</table>\n",
       "</div>"
      ],
      "text/plain": [
       "   trans_id  prod_key  store_key    trans_dt  trans_time  sales_qty  \\\n",
       "0    244054    455222       8103  2020-10-09          12       25.0   \n",
       "1    244056    637817       8103  2020-06-04          16        2.4   \n",
       "2    244058    492902       8103  2022-10-25          17       30.0   \n",
       "3    244060    612619       8103  2022-01-10          18       13.6   \n",
       "4    244062   1039077       8103  2020-05-25          18       34.0   \n",
       "\n",
       "   sales_price  sales_amt  discount  sales_cost  sales_mgrn  ship_cost  \n",
       "0        37.94     721.06      0.10      610.39      338.01       5.08  \n",
       "1       999.99    2423.98      0.00     4819.97    -1820.00      13.99  \n",
       "2        14.03     356.94      0.08      569.08     -148.26       9.37  \n",
       "3       107.53    1782.68      0.08     1547.29      280.64       5.81  \n",
       "4        27.18     622.89      0.10      719.53      204.49       8.23  "
      ]
     },
     "execution_count": 24,
     "metadata": {},
     "output_type": "execute_result"
    }
   ],
   "source": [
    "batch_request = {'datasource_name': 'my_snowflake_datasource', 'data_connector_name': 'default_inferred_data_connector_name', 'data_asset_name': 'raw.sales', 'limit': 1000}\n",
    "\n",
    "validator = context.get_validator(\n",
    "    batch_request=BatchRequest(**batch_request),\n",
    "    expectation_suite_name=expectation_suite_name\n",
    ")\n",
    "column_names = [f'\"{column_name}\"' for column_name in validator.columns()]\n",
    "print(f\"Columns: {', '.join(column_names)}.\")\n",
    "validator.head(n_rows=5, fetch_all=False)"
   ]
  },
  {
   "cell_type": "markdown",
   "id": "ac7af347",
   "metadata": {},
   "source": [
    "## Create & Edit Expectations\n",
    "\n",
    "\n",
    "You are adding Expectation configurations to the suite. Since you selected manual mode, there is no sample batch of data and no validation happens during this process. See our documentation for more info and examples: **[How to create a new Expectation Suite without a sample batch](https://docs.greatexpectations.io/docs/guides/expectations/how_to_create_and_edit_expectations_based_on_domain_knowledge_without_inspecting_data_directly)**.\n",
    "\n",
    "Note that if you do use interactive mode you may specify a sample batch of data to use when creating your Expectation Suite. You can then use a `validator` to get immediate feedback on your Expectations against your specified sample batch.\n",
    "\n",
    "\n",
    "You can see all the available expectations in the **[expectation gallery](https://greatexpectations.io/expectations)**."
   ]
  },
  {
   "cell_type": "markdown",
   "id": "ba6e191b",
   "metadata": {},
   "source": [
    "### Table Expectation(s)"
   ]
  },
  {
   "cell_type": "markdown",
   "id": "60289026",
   "metadata": {},
   "source": [
    "No table level expectations are in this suite. Feel free to add some here.\n"
   ]
  },
  {
   "cell_type": "markdown",
   "id": "768e09e2",
   "metadata": {},
   "source": [
    "### Column Expectation(s)"
   ]
  },
  {
   "cell_type": "code",
   "execution_count": 25,
   "id": "2f01075f-45fb-497c-b294-be3035f19f6f",
   "metadata": {},
   "outputs": [],
   "source": [
    "expectations=suite.expectations"
   ]
  },
  {
   "cell_type": "code",
   "execution_count": 26,
   "id": "072051c7-469d-4c11-b9b1-df13d8f8f1ad",
   "metadata": {},
   "outputs": [],
   "source": [
    "expectations.append(\n",
    "    ExpectationConfiguration(\n",
    "        expectation_type=\"expect_column_values_to_be_unique\",\n",
    "        kwargs={\n",
    "            \"column\":\"trans_id\"\n",
    "        }\n",
    "    )\n",
    ")"
   ]
  },
  {
   "cell_type": "code",
   "execution_count": 27,
   "id": "d6fb6fa8-6ec1-428e-9ab3-3d99caee0179",
   "metadata": {},
   "outputs": [],
   "source": [
    "expectations.append(\n",
    "    ExpectationConfiguration(\n",
    "        expectation_type=\"expect_column_values_to_be_between\",\n",
    "        kwargs={\n",
    "            \"column\": \"store_key\",\n",
    "            \"min_value\": 100,\n",
    "            \"max_value\": 9990,\n",
    "        },\n",
    "    meta={\n",
    "        \"notes\": {\n",
    "            \"format\": \"markdown\",\n",
    "            \"content\": \"Ensure store key is 4 digits long\",\n",
    "        }\n",
    "    },\n",
    "    )\n",
    ")"
   ]
  },
  {
   "cell_type": "code",
   "execution_count": 28,
   "id": "a0f9ae93-b60d-430d-a19e-8f5055d6acdb",
   "metadata": {},
   "outputs": [],
   "source": [
    "expectations.append(\n",
    "    ExpectationConfiguration(\n",
    "        expectation_type=\"expect_column_values_to_be_between\",\n",
    "        kwargs={\n",
    "            \"column\": \"discount\",\n",
    "            \"min_value\": 0,\n",
    "            \"max_value\": 1,\n",
    "        },\n",
    "    meta={\n",
    "        \"notes\": {\n",
    "            \"format\": \"markdown\",\n",
    "            \"content\": \"Ensure store key is 4 digits long\",\n",
    "        }\n",
    "    },\n",
    "    )\n",
    ")"
   ]
  },
  {
   "cell_type": "markdown",
   "id": "a14f1f8d",
   "metadata": {},
   "source": [
    "No column level expectations are in this suite. Feel free to add some here.\n"
   ]
  },
  {
   "cell_type": "markdown",
   "id": "df727700",
   "metadata": {},
   "source": [
    "## Review & Save Your Expectations\n",
    "\n",
    "Let's save the expectation suite as a JSON file in the `great_expectations/expectations` directory of your project.\n",
    "\n",
    "Let's now rebuild your Data Docs, which helps you communicate about your data with both machines and humans."
   ]
  },
  {
   "cell_type": "code",
   "execution_count": 29,
   "id": "8db969d6",
   "metadata": {},
   "outputs": [
    {
     "name": "stderr",
     "output_type": "stream",
     "text": [
      "Exception ignored in: <generator object result_set_iterator at 0x7f8af6815d90>\n",
      "Traceback (most recent call last):\n",
      "  File \"/usr/local/lib/python3.10/dist-packages/snowflake/connector/result_set.py\", line 55, in result_set_iterator\n",
      "    with ThreadPoolExecutor(prefetch_thread_num) as pool:\n",
      "  File \"/usr/lib/python3.10/concurrent/futures/_base.py\", line 649, in __exit__\n",
      "    self.shutdown(wait=True)\n",
      "  File \"/usr/lib/python3.10/concurrent/futures/thread.py\", line 235, in shutdown\n",
      "    t.join()\n",
      "  File \"/usr/lib/python3.10/threading.py\", line 1093, in join\n",
      "    raise RuntimeError(\"cannot join current thread\")\n",
      "RuntimeError: cannot join current thread\n"
     ]
    },
    {
     "name": "stdout",
     "output_type": "stream",
     "text": [
      "{\n",
      "  \"expectation_suite_name\": \"sales_data_check\",\n",
      "  \"ge_cloud_id\": null,\n",
      "  \"expectations\": [],\n",
      "  \"data_asset_type\": null,\n",
      "  \"meta\": {\n",
      "    \"great_expectations_version\": \"0.17.6\"\n",
      "  }\n",
      "}\n"
     ]
    }
   ],
   "source": [
    "print(context.get_expectation_suite(expectation_suite_name=expectation_suite_name))\n",
    "context.add_or_update_expectation_suite(expectation_suite=suite)\n",
    "\n",
    "suite_identifier = ExpectationSuiteIdentifier(expectation_suite_name=expectation_suite_name)\n",
    "context.build_data_docs(resource_identifiers=[suite_identifier])\n",
    "context.open_data_docs(resource_identifier=suite_identifier)"
   ]
  },
  {
   "cell_type": "code",
   "execution_count": null,
   "id": "3eda5db5-e8fb-4506-8946-2a6bd6da0d9c",
   "metadata": {},
   "outputs": [],
   "source": []
  }
 ],
 "metadata": {
  "kernelspec": {
   "display_name": "Python 3 (ipykernel)",
   "language": "python",
   "name": "python3"
  },
  "language_info": {
   "codemirror_mode": {
    "name": "ipython",
    "version": 3
   },
   "file_extension": ".py",
   "mimetype": "text/x-python",
   "name": "python",
   "nbconvert_exporter": "python",
   "pygments_lexer": "ipython3",
   "version": "3.10.6"
  }
 },
 "nbformat": 4,
 "nbformat_minor": 5
}
