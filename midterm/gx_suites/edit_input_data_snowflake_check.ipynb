{
 "cells": [
  {
   "cell_type": "markdown",
   "id": "aa06fef7",
   "metadata": {},
   "source": [
    "# Edit Your Expectation Suite\n",
    "Use this notebook to recreate and modify your expectation suite:\n",
    "\n",
    "**Expectation Suite Name**: `input_data_snowflake_check`\n"
   ]
  },
  {
   "cell_type": "code",
   "execution_count": 36,
   "id": "e4695f76",
   "metadata": {},
   "outputs": [
    {
     "name": "stdout",
     "output_type": "stream",
     "text": [
      "2023-07-26T20:56:53+0000 - INFO - FileDataContext loading fluent config\n",
      "2023-07-26T20:56:53+0000 - INFO - Loading 'datasources' ->\n",
      "[{'name': 'default_pandas_datasource', 'type': 'pandas'}]\n",
      "2023-07-26T20:56:53+0000 - INFO - Of 1 entries, no 'datasources' could be loaded\n",
      "Created ExpectationSuite \"input_data_snowflake_check\".\n"
     ]
    }
   ],
   "source": [
    "import datetime\n",
    "\n",
    "import pandas as pd\n",
    "\n",
    "import great_expectations as gx\n",
    "import great_expectations.jupyter_ux\n",
    "from great_expectations.core.expectation_configuration import ExpectationConfiguration\n",
    "from great_expectations.data_context.types.resource_identifiers import ExpectationSuiteIdentifier\n",
    "from great_expectations.exceptions import DataContextError\n",
    "from great_expectations.core.batch import BatchRequest\n",
    "from great_expectations.checkpoint import SimpleCheckpoint\n",
    "\n",
    "context = gx.get_context()\n",
    "\n",
    "\n",
    "# Feel free to change the name of your suite here. Renaming this will not remove the other one.\n",
    "expectation_suite_name = \"input_data_snowflake_check\"\n",
    "try:\n",
    "    suite = context.get_expectation_suite(expectation_suite_name=expectation_suite_name)\n",
    "    print(f'Loaded ExpectationSuite \"{suite.expectation_suite_name}\" containing {len(suite.expectations)} expectations.')\n",
    "except DataContextError:\n",
    "    suite = context.add_expectation_suite(expectation_suite_name=expectation_suite_name)\n",
    "    print(f'Created ExpectationSuite \"{suite.expectation_suite_name}\".')"
   ]
  },
  {
   "cell_type": "code",
   "execution_count": 37,
   "id": "38344260-1ab1-4698-ba83-db84a71d3159",
   "metadata": {},
   "outputs": [
    {
     "data": {
      "application/vnd.jupyter.widget-view+json": {
       "model_id": "304b86f1688247289c23043301587fff",
       "version_major": 2,
       "version_minor": 0
      },
      "text/plain": [
       "Calculating Metrics:   0%|          | 0/2 [00:00<?, ?it/s]"
      ]
     },
     "metadata": {},
     "output_type": "display_data"
    },
    {
     "name": "stdout",
     "output_type": "stream",
     "text": [
      "Columns: \"cal_dt\", \"store_key\", \"prod_key\", \"inventory_on_hand_qty\", \"inventory_on_order_qty\", \"out_of_stock_flg\", \"waste_qty\", \"promotion_flg\", \"next_delivery_dt\".\n"
     ]
    },
    {
     "data": {
      "application/vnd.jupyter.widget-view+json": {
       "model_id": "3e5598411dd04ede89d0979fc3b5514f",
       "version_major": 2,
       "version_minor": 0
      },
      "text/plain": [
       "Calculating Metrics:   0%|          | 0/1 [00:00<?, ?it/s]"
      ]
     },
     "metadata": {},
     "output_type": "display_data"
    },
    {
     "data": {
      "text/html": [
       "<div>\n",
       "<style scoped>\n",
       "    .dataframe tbody tr th:only-of-type {\n",
       "        vertical-align: middle;\n",
       "    }\n",
       "\n",
       "    .dataframe tbody tr th {\n",
       "        vertical-align: top;\n",
       "    }\n",
       "\n",
       "    .dataframe thead th {\n",
       "        text-align: right;\n",
       "    }\n",
       "</style>\n",
       "<table border=\"1\" class=\"dataframe\">\n",
       "  <thead>\n",
       "    <tr style=\"text-align: right;\">\n",
       "      <th></th>\n",
       "      <th>cal_dt</th>\n",
       "      <th>store_key</th>\n",
       "      <th>prod_key</th>\n",
       "      <th>inventory_on_hand_qty</th>\n",
       "      <th>inventory_on_order_qty</th>\n",
       "      <th>out_of_stock_flg</th>\n",
       "      <th>waste_qty</th>\n",
       "      <th>promotion_flg</th>\n",
       "      <th>next_delivery_dt</th>\n",
       "    </tr>\n",
       "  </thead>\n",
       "  <tbody>\n",
       "    <tr>\n",
       "      <th>0</th>\n",
       "      <td>2020-01-01</td>\n",
       "      <td>248</td>\n",
       "      <td>539839</td>\n",
       "      <td>33.28</td>\n",
       "      <td>28.16</td>\n",
       "      <td>1</td>\n",
       "      <td>0.0</td>\n",
       "      <td>True</td>\n",
       "      <td>2009-01-14</td>\n",
       "    </tr>\n",
       "    <tr>\n",
       "      <th>1</th>\n",
       "      <td>2020-01-01</td>\n",
       "      <td>248</td>\n",
       "      <td>1064589</td>\n",
       "      <td>7.56</td>\n",
       "      <td>8.19</td>\n",
       "      <td>0</td>\n",
       "      <td>1.0</td>\n",
       "      <td>False</td>\n",
       "      <td>2009-01-06</td>\n",
       "    </tr>\n",
       "    <tr>\n",
       "      <th>2</th>\n",
       "      <td>2020-01-01</td>\n",
       "      <td>1054</td>\n",
       "      <td>539839</td>\n",
       "      <td>38.40</td>\n",
       "      <td>57.60</td>\n",
       "      <td>0</td>\n",
       "      <td>1.0</td>\n",
       "      <td>True</td>\n",
       "      <td>2009-01-10</td>\n",
       "    </tr>\n",
       "    <tr>\n",
       "      <th>3</th>\n",
       "      <td>2020-01-01</td>\n",
       "      <td>1054</td>\n",
       "      <td>1064589</td>\n",
       "      <td>13.68</td>\n",
       "      <td>7.92</td>\n",
       "      <td>1</td>\n",
       "      <td>1.0</td>\n",
       "      <td>True</td>\n",
       "      <td>2009-01-16</td>\n",
       "    </tr>\n",
       "    <tr>\n",
       "      <th>4</th>\n",
       "      <td>2020-01-01</td>\n",
       "      <td>1103</td>\n",
       "      <td>539839</td>\n",
       "      <td>8.64</td>\n",
       "      <td>48.96</td>\n",
       "      <td>1</td>\n",
       "      <td>1.0</td>\n",
       "      <td>False</td>\n",
       "      <td>2009-01-15</td>\n",
       "    </tr>\n",
       "  </tbody>\n",
       "</table>\n",
       "</div>"
      ],
      "text/plain": [
       "       cal_dt  store_key  prod_key  inventory_on_hand_qty  \\\n",
       "0  2020-01-01        248    539839                  33.28   \n",
       "1  2020-01-01        248   1064589                   7.56   \n",
       "2  2020-01-01       1054    539839                  38.40   \n",
       "3  2020-01-01       1054   1064589                  13.68   \n",
       "4  2020-01-01       1103    539839                   8.64   \n",
       "\n",
       "   inventory_on_order_qty  out_of_stock_flg  waste_qty  promotion_flg  \\\n",
       "0                   28.16                 1        0.0           True   \n",
       "1                    8.19                 0        1.0          False   \n",
       "2                   57.60                 0        1.0           True   \n",
       "3                    7.92                 1        1.0           True   \n",
       "4                   48.96                 1        1.0          False   \n",
       "\n",
       "  next_delivery_dt  \n",
       "0       2009-01-14  \n",
       "1       2009-01-06  \n",
       "2       2009-01-10  \n",
       "3       2009-01-16  \n",
       "4       2009-01-15  "
      ]
     },
     "execution_count": 37,
     "metadata": {},
     "output_type": "execute_result"
    }
   ],
   "source": [
    "batch_request = {'datasource_name': 'my_snowflake_datasource', 'data_connector_name': 'default_inferred_data_connector_name', 'data_asset_name': 'raw.inventory', 'limit': 1000}\n",
    "\n",
    "validator = context.get_validator(\n",
    "    batch_request=BatchRequest(**batch_request),\n",
    "    expectation_suite_name=expectation_suite_name\n",
    ")\n",
    "column_names = [f'\"{column_name}\"' for column_name in validator.columns()]\n",
    "print(f\"Columns: {', '.join(column_names)}.\")\n",
    "validator.head(n_rows=5, fetch_all=False)"
   ]
  },
  {
   "cell_type": "markdown",
   "id": "abe43326",
   "metadata": {},
   "source": [
    "## Create & Edit Expectations\n",
    "\n",
    "\n",
    "You are adding Expectation configurations to the suite. Since you selected manual mode, there is no sample batch of data and no validation happens during this process. See our documentation for more info and examples: **[How to create a new Expectation Suite without a sample batch](https://docs.greatexpectations.io/docs/guides/expectations/how_to_create_and_edit_expectations_based_on_domain_knowledge_without_inspecting_data_directly)**.\n",
    "\n",
    "Note that if you do use interactive mode you may specify a sample batch of data to use when creating your Expectation Suite. You can then use a `validator` to get immediate feedback on your Expectations against your specified sample batch.\n",
    "\n",
    "\n",
    "You can see all the available expectations in the **[expectation gallery](https://greatexpectations.io/expectations)**."
   ]
  },
  {
   "cell_type": "markdown",
   "id": "84dd53af",
   "metadata": {},
   "source": [
    "### Table Expectation(s)"
   ]
  },
  {
   "cell_type": "markdown",
   "id": "83f9b46a",
   "metadata": {},
   "source": [
    "No table level expectations are in this suite. Feel free to add some here.\n"
   ]
  },
  {
   "cell_type": "code",
   "execution_count": null,
   "id": "bbc3f197-8cd3-4297-8298-4d346a9eb5db",
   "metadata": {},
   "outputs": [],
   "source": []
  },
  {
   "cell_type": "markdown",
   "id": "42a28c89",
   "metadata": {},
   "source": [
    "### Column Expectation(s)"
   ]
  },
  {
   "cell_type": "markdown",
   "id": "1cc34ab1",
   "metadata": {},
   "source": [
    "No column level expectations are in this suite. Feel free to add some here.\n"
   ]
  },
  {
   "cell_type": "code",
   "execution_count": null,
   "id": "664a1996-4f71-4792-907d-a70492b3bec9",
   "metadata": {},
   "outputs": [],
   "source": []
  },
  {
   "cell_type": "code",
   "execution_count": 38,
   "id": "7ef44d21-41d0-421a-98b1-7788240c3cc8",
   "metadata": {},
   "outputs": [],
   "source": [
    "expectations=suite.expectations"
   ]
  },
  {
   "cell_type": "code",
   "execution_count": 39,
   "id": "57ad2a09-930d-41c8-b690-8221ac13d02c",
   "metadata": {},
   "outputs": [],
   "source": [
    "expectations.append(\n",
    "    ExpectationConfiguration(\n",
    "        expectation_type=\"expect_column_values_to_not_be_null\",\n",
    "        kwargs={\n",
    "            \"column\":\"prod_key\"\n",
    "        }\n",
    "    )\n",
    ")"
   ]
  },
  {
   "cell_type": "code",
   "execution_count": 40,
   "id": "ba75a297-b984-4f56-b9ad-18ebe18321d0",
   "metadata": {},
   "outputs": [],
   "source": [
    "expectations.append(\n",
    "    ExpectationConfiguration(\n",
    "        expectation_type=\"expect_column_values_to_be_in_set\",\n",
    "        kwargs={\n",
    "            \"column\": \"out_of_stock_flg\",\n",
    "            \"value_set\": [0,1],\n",
    "        },\n",
    "        # This is how you can optionally add a comment about this expectation. It will be rendered in Data Docs.\n",
    "    meta={\n",
    "        \"notes\": {\n",
    "            \"format\": \"markdown\",\n",
    "            \"content\": \"This is ensuring that this flag is properly set to 1 or 2\",\n",
    "        }\n",
    "    },\n",
    "    )\n",
    ")"
   ]
  },
  {
   "cell_type": "code",
   "execution_count": 41,
   "id": "ce9f9067-f0b7-4bc5-b901-83af3e1dcf1e",
   "metadata": {},
   "outputs": [],
   "source": [
    "expectations.append(\n",
    "    ExpectationConfiguration(\n",
    "        expectation_type=\"expect_column_values_to_be_between\",\n",
    "        kwargs={\n",
    "            \"column\": \"store_key\",\n",
    "            \"min_value\": 100,\n",
    "            \"max_value\": 9999,\n",
    "        },\n",
    "    meta={\n",
    "        \"notes\": {\n",
    "            \"format\": \"markdown\",\n",
    "            \"content\": \"Store number should be 4 digits long\",\n",
    "        }\n",
    "    },\n",
    "    )\n",
    ")"
   ]
  },
  {
   "cell_type": "code",
   "execution_count": 42,
   "id": "29335b26-50e3-4cc4-8c94-f25430c04fc4",
   "metadata": {},
   "outputs": [],
   "source": [
    "expectations.append(\n",
    "    ExpectationConfiguration(\n",
    "        expectation_type=\"expect_column_values_to_be_between\",\n",
    "        kwargs={\n",
    "            \"column\": \"inventory_on_hand_qty\",\n",
    "            \"min_value\": 0,\n",
    "            \"max_value\": 999999,\n",
    "        },\n",
    "    meta={\n",
    "        \"notes\": {\n",
    "            \"format\": \"markdown\",\n",
    "            \"content\": \"Ensure inventory on hand is > 0\",\n",
    "        }\n",
    "    },\n",
    "    )\n",
    ")"
   ]
  },
  {
   "cell_type": "markdown",
   "id": "8ce9d3d2",
   "metadata": {},
   "source": [
    "## Review & Save Your Expectations\n",
    "\n",
    "Let's save the expectation suite as a JSON file in the `great_expectations/expectations` directory of your project.\n",
    "\n",
    "Let's now rebuild your Data Docs, which helps you communicate about your data with both machines and humans."
   ]
  },
  {
   "cell_type": "code",
   "execution_count": 43,
   "id": "855813b5",
   "metadata": {},
   "outputs": [
    {
     "name": "stdout",
     "output_type": "stream",
     "text": [
      "{\n",
      "  \"expectation_suite_name\": \"input_data_snowflake_check\",\n",
      "  \"ge_cloud_id\": null,\n",
      "  \"expectations\": [],\n",
      "  \"data_asset_type\": null,\n",
      "  \"meta\": {\n",
      "    \"great_expectations_version\": \"0.17.6\"\n",
      "  }\n",
      "}\n"
     ]
    }
   ],
   "source": [
    "print(context.get_expectation_suite(expectation_suite_name=expectation_suite_name))\n",
    "context.add_or_update_expectation_suite(expectation_suite=suite)\n",
    "\n",
    "suite_identifier = ExpectationSuiteIdentifier(expectation_suite_name=expectation_suite_name)\n",
    "context.build_data_docs(resource_identifiers=[suite_identifier])\n",
    "context.open_data_docs(resource_identifier=suite_identifier)"
   ]
  },
  {
   "cell_type": "code",
   "execution_count": 44,
   "id": "aa465bef-2bbc-4b28-8645-72e7dd8a8312",
   "metadata": {},
   "outputs": [],
   "source": [
    "#suite.expectations=expectations\n",
    "\n",
    "# save suite of expectations\n",
    "#context.save_expectation_suite(suite, \"input_data_snowflake_check\")"
   ]
  }
 ],
 "metadata": {
  "kernelspec": {
   "display_name": "Python 3 (ipykernel)",
   "language": "python",
   "name": "python3"
  },
  "language_info": {
   "codemirror_mode": {
    "name": "ipython",
    "version": 3
   },
   "file_extension": ".py",
   "mimetype": "text/x-python",
   "name": "python",
   "nbconvert_exporter": "python",
   "pygments_lexer": "ipython3",
   "version": "3.10.6"
  }
 },
 "nbformat": 4,
 "nbformat_minor": 5
}
